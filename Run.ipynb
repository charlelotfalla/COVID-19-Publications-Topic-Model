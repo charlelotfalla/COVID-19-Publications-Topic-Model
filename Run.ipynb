{
 "cells": [
  {
   "cell_type": "markdown",
   "metadata": {},
   "source": [
    "# This document is for running the lemmatizer function and ldamodel function."
   ]
  },
  {
   "cell_type": "code",
   "execution_count": 1,
   "metadata": {},
   "outputs": [
    {
     "name": "stdout",
     "output_type": "stream",
     "text": [
      "Importing Jupyter notebook from lemmatizer.ipynb\n",
      "Importing Jupyter notebook from ldamodel.ipynb\n"
     ]
    }
   ],
   "source": [
    "import numpy as np\n",
    "import pandas as pd\n",
    "import nbimporter\n",
    "from lemmatizer import lemmatizer\n",
    "from ldamodel import ldamodel"
   ]
  },
  {
   "cell_type": "code",
   "execution_count": 2,
   "metadata": {},
   "outputs": [],
   "source": [
    "#Model Parameters\n",
    "\n",
    "#Number of topics to search \n",
    "start = 2\n",
    "limit = 16\n",
    "step = 2\n",
    "\n",
    "#Minimum number of documents to filter tokens on\n",
    "min_df = 10\n",
    "\n",
    "#Maximum percentage of documents to filter tokens on\n",
    "max_df = 0.8\n",
    "\n",
    "#Set dtm_flag to 0 for lda with bag of words,\n",
    "#                1 for lda with tf-idf.\n",
    "\n",
    "dtm_flag = 1"
   ]
  },
  {
   "cell_type": "code",
   "execution_count": 3,
   "metadata": {},
   "outputs": [
    {
     "name": "stderr",
     "output_type": "stream",
     "text": [
      "100%|██████████████████████████████████████████████████████████████████████████████| 5356/5356 [06:18<00:00, 14.14it/s]\n",
      "100%|████████████████████████████████████████████████████████████████████████████| 5356/5356 [00:04<00:00, 1296.09it/s]\n",
      "100%|███████████████████████████████████████████████████████████████████████████| 5356/5356 [00:00<00:00, 43309.02it/s]\n"
     ]
    }
   ],
   "source": [
    "datafile = 'pubmed_covid.csv'\n",
    "docs = pd.read_csv(datafile)\n",
    "\n",
    "\n",
    "corpus, dictionary, text, pmid = lemmatizer(docs, min_df, max_df, dtm_flag)"
   ]
  },
  {
   "cell_type": "code",
   "execution_count": 4,
   "metadata": {},
   "outputs": [
    {
     "name": "stderr",
     "output_type": "stream",
     "text": [
      "C:\\Users\\cl1888\\AppData\\Local\\Continuum\\anaconda3\\lib\\site-packages\\pyLDAvis\\_prepare.py:257: FutureWarning: Sorting because non-concatenation axis is not aligned. A future version\n",
      "of pandas will change to not sort by default.\n",
      "\n",
      "To accept the future behavior, pass 'sort=False'.\n",
      "\n",
      "To retain the current behavior and silence the warning, pass 'sort=True'.\n",
      "\n",
      "  return pd.concat([default_term_info] + list(topic_dfs))\n"
     ]
    },
    {
     "data": {
      "image/png": "[encoded data removed]",
      "text/plain": [
       "<Figure size 432x288 with 1 Axes>"
      ]
     },
     "metadata": {
      "needs_background": "light"
     },
     "output_type": "display_data"
    }
   ],
   "source": [
    "model_list, coherence_values, doc_topic_matrix, corpus, dictionary = ldamodel(dictionary, corpus, text, start, limit, step, pmid)"
   ]
  },
  {
   "cell_type": "code",
   "execution_count": null,
   "metadata": {},
   "outputs": [],
   "source": []
  }
 ],
 "metadata": {
  "kernelspec": {
   "display_name": "Python 3",
   "language": "python",
   "name": "python3"
  },
  "language_info": {
   "codemirror_mode": {
    "name": "ipython",
    "version": 3
   },
   "file_extension": ".py",
   "mimetype": "text/x-python",
   "name": "python",
   "nbconvert_exporter": "python",
   "pygments_lexer": "ipython3",
   "version": "3.7.4"
  }
 },
 "nbformat": 4,
 "nbformat_minor": 2
}
